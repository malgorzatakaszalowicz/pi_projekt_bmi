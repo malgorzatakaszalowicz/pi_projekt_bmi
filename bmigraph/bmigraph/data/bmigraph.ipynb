{
 "cells": [
  {
   "cell_type": "code",
   "id": "initial_id",
   "metadata": {
    "collapsed": true,
    "ExecuteTime": {
     "end_time": "2024-12-18T14:52:57.477601Z",
     "start_time": "2024-12-18T14:52:56.316695Z"
    }
   },
   "source": [
    "import seaborn as sns\n",
    "import pandas as pd\n",
    "print(\"Jesli masz dane wejsciowe bez obliczonego bmi, wpisz 1, jesli masz obliczone bmi, wpisz cokolwiek innego\")\n",
    "# zrobic by user mogl wybrac sciezkę do pliku i brac tamten plik\n",
    "a=input()\n",
    "if a==1:\n",
    "    # Load the data from the text file\n",
    "    df = pd.read_csv('dane.txt', sep=',')  # Assuming columns are separated by commas\n",
    "\n",
    "    # Calculate the BMI\n",
    "    df['bmi'] = df['waga'] / ((df['wzrost']/100) ** 2)\n",
    "\n",
    "    # Save the updated DataFrame to a new file\n",
    "    df.to_csv('data_with_bmi.txt', index=False)\n",
    "else:\n",
    "    df = pd.read_csv('data_with_bmi.txt', sep=',')\n",
    "# Step 2: Round BMI values to group similar entries\n",
    "df['bmi_rounded'] = df['bmi'].round(1)  # Round BMI to 1 decimal place\n",
    "\n",
    "# Step 3: Count the frequency of each rounded BMI value\n",
    "bmi_counts = df['bmi_rounded'].value_counts().reset_index()\n",
    "bmi_counts.columns = ['bmi', 'count']  # Rename columns for clarity\n",
    "bmi_counts = bmi_counts.sort_values(by='bmi')  # Sort by BMI for better visualization\n",
    "\n",
    "# Step 4: Create a bar plot using seaborn\n",
    "sns.barplot(x='bmi', y='count', data=bmi_counts)"
   ],
   "outputs": [
    {
     "name": "stdout",
     "output_type": "stream",
     "text": [
      "Jesli masz dane wejsciowe bez obliczonego bmi, wpisz 1, jesli masz obliczone bmi, wpisz cokolwiek innego\n"
     ]
    },
    {
     "data": {
      "text/plain": [
       "<Axes: xlabel='bmi', ylabel='count'>"
      ]
     },
     "execution_count": 24,
     "metadata": {},
     "output_type": "execute_result"
    },
    {
     "data": {
      "text/plain": [
       "<Figure size 640x480 with 1 Axes>"
      ],
      "image/png": "[encoded data removed]"
     },
     "metadata": {},
     "output_type": "display_data"
    }
   ],
   "execution_count": 24
  },
  {
   "metadata": {
    "ExecuteTime": {
     "end_time": "2025-01-03T18:01:28.851092Z",
     "start_time": "2025-01-03T18:01:21.225167Z"
    }
   },
   "cell_type": "code",
   "source": [
    "import pandas as pd\n",
    "import seaborn as sns\n",
    "\n",
    "# Step 1: Prompt the user for the file path\n",
    "file_path = input(\"Wpisz ścieżkę pliku: \")\n",
    "\n",
    "def try_read_csv(file_path):\n",
    "    for sep in [',', '\\t', ' ']:\n",
    "        try:\n",
    "            # Attempt to read the file with the current separator\n",
    "            return pd.read_csv(file_path, sep=sep)\n",
    "        except Exception as e:\n",
    "            continue  # If reading with the current separator fails, try the next one\n",
    "    # If no valid separator was found, raise an error\n",
    "    raise ValueError(\"Plik nie mógł być odczytany przy użyciu najczęstszych separatorów (, ' ' tab\")\n",
    "\n",
    "# Step 2: Load the data\n",
    "try:\n",
    "    df = try_read_csv(file_path)\n",
    "except FileNotFoundError:\n",
    "    print(\"Plik nie został znaleziony\")\n",
    "    exit()\n",
    "except ValueError as e:\n",
    "    print(f\"Error: {e}\")\n",
    "    exit()\n",
    "except Exception as e:\n",
    "    print(f\"An error occurred: {e}\")\n",
    "    exit()\n",
    "\n",
    "# Step 3: Calculate the BMI column if not already present\n",
    "if 'bmi' not in df.columns:\n",
    "    try:\n",
    "        df['bmi'] = df['waga'] / ((df['wzrost']/100) ** 2)\n",
    "    except KeyError:\n",
    "        print(\"The file does not contain the required columns 'wzrost' and 'waga'.\")\n",
    "        exit()\n",
    "\n",
    "# Step 5: Categorize the BMI values into four groups\n",
    "bins = [-float('inf'), 18.5, 25, 30, float('inf')]  # Define the bin edges\n",
    "labels = ['niedowaga', 'optimum', 'nadwaga', 'otylosc']  # Labels for the categories\n",
    "df['bmi_category'] = pd.cut(df['bmi'], bins=bins, labels=labels)\n",
    "\n",
    "# Step 6: Create a bar plot using seaborn\n",
    "sns.barplot(x='bmi_category', y='waga', data=df)\n",
    "#zrobic zeby bmi byly podzielone na grupy na wykresie w zaleznosci od stopnia itp ze niedowaga itp i zeby pokazywala sie liczba osob z takim bmi"
   ],
   "id": "cde1f89a9a0ee681",
   "outputs": [
    {
     "name": "stdout",
     "output_type": "stream",
     "text": [
      "The file does not contain the required columns 'wzrost' and 'waga'.\n"
     ]
    },
    {
     "ename": "KeyError",
     "evalue": "'bmi'",
     "output_type": "error",
     "traceback": [
      "\u001B[1;31m---------------------------------------------------------------------------\u001B[0m",
      "\u001B[1;31mKeyError\u001B[0m                                  Traceback (most recent call last)",
      "File \u001B[1;32m~\\AppData\\Local\\Packages\\PythonSoftwareFoundation.Python.3.9_qbz5n2kfra8p0\\LocalCache\\local-packages\\Python39\\site-packages\\pandas\\core\\indexes\\base.py:3805\u001B[0m, in \u001B[0;36mIndex.get_loc\u001B[1;34m(self, key)\u001B[0m\n\u001B[0;32m   3804\u001B[0m \u001B[38;5;28;01mtry\u001B[39;00m:\n\u001B[1;32m-> 3805\u001B[0m     \u001B[38;5;28;01mreturn\u001B[39;00m \u001B[38;5;28;43mself\u001B[39;49m\u001B[38;5;241;43m.\u001B[39;49m\u001B[43m_engine\u001B[49m\u001B[38;5;241;43m.\u001B[39;49m\u001B[43mget_loc\u001B[49m\u001B[43m(\u001B[49m\u001B[43mcasted_key\u001B[49m\u001B[43m)\u001B[49m\n\u001B[0;32m   3806\u001B[0m \u001B[38;5;28;01mexcept\u001B[39;00m \u001B[38;5;167;01mKeyError\u001B[39;00m \u001B[38;5;28;01mas\u001B[39;00m err:\n",
      "File \u001B[1;32mindex.pyx:167\u001B[0m, in \u001B[0;36mpandas._libs.index.IndexEngine.get_loc\u001B[1;34m()\u001B[0m\n",
      "File \u001B[1;32mindex.pyx:196\u001B[0m, in \u001B[0;36mpandas._libs.index.IndexEngine.get_loc\u001B[1;34m()\u001B[0m\n",
      "File \u001B[1;32mpandas\\\\_libs\\\\hashtable_class_helper.pxi:7081\u001B[0m, in \u001B[0;36mpandas._libs.hashtable.PyObjectHashTable.get_item\u001B[1;34m()\u001B[0m\n",
      "File \u001B[1;32mpandas\\\\_libs\\\\hashtable_class_helper.pxi:7089\u001B[0m, in \u001B[0;36mpandas._libs.hashtable.PyObjectHashTable.get_item\u001B[1;34m()\u001B[0m\n",
      "\u001B[1;31mKeyError\u001B[0m: 'bmi'",
      "\nThe above exception was the direct cause of the following exception:\n",
      "\u001B[1;31mKeyError\u001B[0m                                  Traceback (most recent call last)",
      "Cell \u001B[1;32mIn[1], line 41\u001B[0m\n\u001B[0;32m     39\u001B[0m bins \u001B[38;5;241m=\u001B[39m [\u001B[38;5;241m-\u001B[39m\u001B[38;5;28mfloat\u001B[39m(\u001B[38;5;124m'\u001B[39m\u001B[38;5;124minf\u001B[39m\u001B[38;5;124m'\u001B[39m), \u001B[38;5;241m18.5\u001B[39m, \u001B[38;5;241m25\u001B[39m, \u001B[38;5;241m30\u001B[39m, \u001B[38;5;28mfloat\u001B[39m(\u001B[38;5;124m'\u001B[39m\u001B[38;5;124minf\u001B[39m\u001B[38;5;124m'\u001B[39m)]  \u001B[38;5;66;03m# Define the bin edges\u001B[39;00m\n\u001B[0;32m     40\u001B[0m labels \u001B[38;5;241m=\u001B[39m [\u001B[38;5;124m'\u001B[39m\u001B[38;5;124mniedowaga\u001B[39m\u001B[38;5;124m'\u001B[39m, \u001B[38;5;124m'\u001B[39m\u001B[38;5;124moptimum\u001B[39m\u001B[38;5;124m'\u001B[39m, \u001B[38;5;124m'\u001B[39m\u001B[38;5;124mnadwaga\u001B[39m\u001B[38;5;124m'\u001B[39m, \u001B[38;5;124m'\u001B[39m\u001B[38;5;124motylosc\u001B[39m\u001B[38;5;124m'\u001B[39m]  \u001B[38;5;66;03m# Labels for the categories\u001B[39;00m\n\u001B[1;32m---> 41\u001B[0m df[\u001B[38;5;124m'\u001B[39m\u001B[38;5;124mbmi_category\u001B[39m\u001B[38;5;124m'\u001B[39m] \u001B[38;5;241m=\u001B[39m pd\u001B[38;5;241m.\u001B[39mcut(\u001B[43mdf\u001B[49m\u001B[43m[\u001B[49m\u001B[38;5;124;43m'\u001B[39;49m\u001B[38;5;124;43mbmi\u001B[39;49m\u001B[38;5;124;43m'\u001B[39;49m\u001B[43m]\u001B[49m, bins\u001B[38;5;241m=\u001B[39mbins, labels\u001B[38;5;241m=\u001B[39mlabels)\n\u001B[0;32m     43\u001B[0m \u001B[38;5;66;03m# Step 6: Create a bar plot using seaborn\u001B[39;00m\n\u001B[0;32m     44\u001B[0m sns\u001B[38;5;241m.\u001B[39mbarplot(x\u001B[38;5;241m=\u001B[39m\u001B[38;5;124m'\u001B[39m\u001B[38;5;124mbmi_category\u001B[39m\u001B[38;5;124m'\u001B[39m, y\u001B[38;5;241m=\u001B[39m\u001B[38;5;124m'\u001B[39m\u001B[38;5;124mwaga\u001B[39m\u001B[38;5;124m'\u001B[39m, data\u001B[38;5;241m=\u001B[39mdf)\n",
      "File \u001B[1;32m~\\AppData\\Local\\Packages\\PythonSoftwareFoundation.Python.3.9_qbz5n2kfra8p0\\LocalCache\\local-packages\\Python39\\site-packages\\pandas\\core\\frame.py:4102\u001B[0m, in \u001B[0;36mDataFrame.__getitem__\u001B[1;34m(self, key)\u001B[0m\n\u001B[0;32m   4100\u001B[0m \u001B[38;5;28;01mif\u001B[39;00m \u001B[38;5;28mself\u001B[39m\u001B[38;5;241m.\u001B[39mcolumns\u001B[38;5;241m.\u001B[39mnlevels \u001B[38;5;241m>\u001B[39m \u001B[38;5;241m1\u001B[39m:\n\u001B[0;32m   4101\u001B[0m     \u001B[38;5;28;01mreturn\u001B[39;00m \u001B[38;5;28mself\u001B[39m\u001B[38;5;241m.\u001B[39m_getitem_multilevel(key)\n\u001B[1;32m-> 4102\u001B[0m indexer \u001B[38;5;241m=\u001B[39m \u001B[38;5;28;43mself\u001B[39;49m\u001B[38;5;241;43m.\u001B[39;49m\u001B[43mcolumns\u001B[49m\u001B[38;5;241;43m.\u001B[39;49m\u001B[43mget_loc\u001B[49m\u001B[43m(\u001B[49m\u001B[43mkey\u001B[49m\u001B[43m)\u001B[49m\n\u001B[0;32m   4103\u001B[0m \u001B[38;5;28;01mif\u001B[39;00m is_integer(indexer):\n\u001B[0;32m   4104\u001B[0m     indexer \u001B[38;5;241m=\u001B[39m [indexer]\n",
      "File \u001B[1;32m~\\AppData\\Local\\Packages\\PythonSoftwareFoundation.Python.3.9_qbz5n2kfra8p0\\LocalCache\\local-packages\\Python39\\site-packages\\pandas\\core\\indexes\\base.py:3812\u001B[0m, in \u001B[0;36mIndex.get_loc\u001B[1;34m(self, key)\u001B[0m\n\u001B[0;32m   3807\u001B[0m     \u001B[38;5;28;01mif\u001B[39;00m \u001B[38;5;28misinstance\u001B[39m(casted_key, \u001B[38;5;28mslice\u001B[39m) \u001B[38;5;129;01mor\u001B[39;00m (\n\u001B[0;32m   3808\u001B[0m         \u001B[38;5;28misinstance\u001B[39m(casted_key, abc\u001B[38;5;241m.\u001B[39mIterable)\n\u001B[0;32m   3809\u001B[0m         \u001B[38;5;129;01mand\u001B[39;00m \u001B[38;5;28many\u001B[39m(\u001B[38;5;28misinstance\u001B[39m(x, \u001B[38;5;28mslice\u001B[39m) \u001B[38;5;28;01mfor\u001B[39;00m x \u001B[38;5;129;01min\u001B[39;00m casted_key)\n\u001B[0;32m   3810\u001B[0m     ):\n\u001B[0;32m   3811\u001B[0m         \u001B[38;5;28;01mraise\u001B[39;00m InvalidIndexError(key)\n\u001B[1;32m-> 3812\u001B[0m     \u001B[38;5;28;01mraise\u001B[39;00m \u001B[38;5;167;01mKeyError\u001B[39;00m(key) \u001B[38;5;28;01mfrom\u001B[39;00m \u001B[38;5;21;01merr\u001B[39;00m\n\u001B[0;32m   3813\u001B[0m \u001B[38;5;28;01mexcept\u001B[39;00m \u001B[38;5;167;01mTypeError\u001B[39;00m:\n\u001B[0;32m   3814\u001B[0m     \u001B[38;5;66;03m# If we have a listlike key, _check_indexing_error will raise\u001B[39;00m\n\u001B[0;32m   3815\u001B[0m     \u001B[38;5;66;03m#  InvalidIndexError. Otherwise we fall through and re-raise\u001B[39;00m\n\u001B[0;32m   3816\u001B[0m     \u001B[38;5;66;03m#  the TypeError.\u001B[39;00m\n\u001B[0;32m   3817\u001B[0m     \u001B[38;5;28mself\u001B[39m\u001B[38;5;241m.\u001B[39m_check_indexing_error(key)\n",
      "\u001B[1;31mKeyError\u001B[0m: 'bmi'"
     ]
    }
   ],
   "execution_count": 1
  },
  {
   "metadata": {},
   "cell_type": "code",
   "outputs": [],
   "execution_count": null,
   "source": [
    "# Step 5: Count the frequency of each rounded BMI value\n",
    "bmi_counts = df['bmi_rounded'].value_counts().reset_index()\n",
    "bmi_counts.columns = ['bmi', 'count']  # Rename columns for clarity\n",
    "bmi_counts = bmi_counts.sort_values(by='bmi')  # Sort by BMI for better visualization\n"
   ],
   "id": "66ffbd6f38d9a8b6"
  },
  {
   "metadata": {
    "ExecuteTime": {
     "end_time": "2025-01-03T18:02:34.018274Z",
     "start_time": "2025-01-03T18:02:26.210481Z"
    }
   },
   "cell_type": "code",
   "source": [
    "import pandas as pd\n",
    "import seaborn as sns\n",
    "\n",
    "# Step 1: Prompt the user for the file path\n",
    "file_path = input(\"Wpisz ścieżkę pliku: \")\n",
    "\n",
    "# Step 2: Load the data\n",
    "try:\n",
    "    # Load the data from the specified file\n",
    "    df = pd.read_csv(file_path, sep='\\t')  # Assuming columns are separated by\n",
    "except FileNotFoundError:\n",
    "    print(\"The file was not found. Please check the file path and try again.\")\n",
    "    exit()\n",
    "except Exception as e:\n",
    "    print(f\"An error occurred: {e}\")\n",
    "    exit()\n",
    "    # Step 3: Calculate the BMI column if not already present\n",
    "if 'bmi' not in df.columns:\n",
    "    try:\n",
    "        df['bmi'] = df['waga'] / ((df['wzrost']/100) ** 2)\n",
    "    except KeyError:\n",
    "        print(\"The file does not contain the required columns 'wzrost' and 'waga'.\")\n",
    "        exit()\n",
    "\n",
    "# Step 5: Categorize the BMI values into four groups\n",
    "bins = [-float('inf'), 18.5, 25, 30, float('inf')]  # Define the bin edges\n",
    "labels = ['niedowaga', 'optimum', 'nadwaga', 'otylosc']  # Labels for the categories\n",
    "df['bmi_category'] = pd.cut(df['bmi'], bins=bins, labels=labels)\n",
    "\n",
    "# Step 6: Create a bar plot using seaborn\n",
    "sns.barplot(x='bmi_category', y='waga', data=df)\n",
    "#zrobic zeby bmi byly podzielone na grupy na wykresie w zaleznosci od stopnia itp ze niedowaga itp i zeby pokazywala sie liczba osob z takim bmi"
   ],
   "id": "5798661c180b66b2",
   "outputs": [
    {
     "data": {
      "text/plain": [
       "<Axes: xlabel='bmi_category', ylabel='waga'>"
      ]
     },
     "execution_count": 1,
     "metadata": {},
     "output_type": "execute_result"
    },
    {
     "data": {
      "text/plain": [
       "<Figure size 640x480 with 1 Axes>"
      ],
      "image/png": "[encoded data removed]"
     },
     "metadata": {},
     "output_type": "display_data"
    }
   ],
   "execution_count": 1
  },
  {
   "metadata": {
    "ExecuteTime": {
     "end_time": "2025-01-03T18:02:18.607349Z",
     "start_time": "2025-01-03T18:02:18.592029Z"
    }
   },
   "cell_type": "code",
   "source": "",
   "id": "b839524e906a5998",
   "outputs": [],
   "execution_count": null
  },
  {
   "metadata": {},
   "cell_type": "code",
   "outputs": [],
   "execution_count": null,
   "source": "",
   "id": "95dcb5f05c9e1490"
  }
 ],
 "metadata": {
  "kernelspec": {
   "display_name": "Python 3",
   "language": "python",
   "name": "python3"
  },
  "language_info": {
   "codemirror_mode": {
    "name": "ipython",
    "version": 2
   },
   "file_extension": ".py",
   "mimetype": "text/x-python",
   "name": "python",
   "nbconvert_exporter": "python",
   "pygments_lexer": "ipython2",
   "version": "2.7.6"
  }
 },
 "nbformat": 4,
 "nbformat_minor": 5
}
